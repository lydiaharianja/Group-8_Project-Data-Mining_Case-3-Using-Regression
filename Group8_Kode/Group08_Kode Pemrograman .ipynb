{
 "cells": [
  {
   "cell_type": "code",
   "execution_count": 1,
   "id": "7a5e509f",
   "metadata": {},
   "outputs": [
    {
     "name": "stdout",
     "output_type": "stream",
     "text": [
      "          PSTV01     PSTV02        PSTV15             PNK02      PNK03  \\\n",
      "0       93858078   93216423  7.659537e+07  183920215Y000376 2015-02-26   \n",
      "1       93747649  346217457  1.800196e+07   19500915Y000074 2015-09-21   \n",
      "2      359887820   72989971  9.591551e-01  250630919P000299 2019-09-26   \n",
      "3       84126594   84126594  1.110887e+07  326360919P001086 2019-09-09   \n",
      "4       87558937   62126532  3.245183e+06  252721019P001142 2019-10-14   \n",
      "...          ...        ...           ...               ...        ...   \n",
      "36488  107435122  107435122  1.794652e+07  108680818Y000770 2018-08-06   \n",
      "36489  447273237  435380768  2.330930e+07  122070319Y000676 2019-03-09   \n",
      "36490   80686271  426470275  1.154869e+07  296600118Y000277 2018-01-20   \n",
      "36491   93887676   93887676  3.204735e+06  296600517Y000031 2017-05-03   \n",
      "36492   93887676   93887676  3.204735e+06  296600816Y000004 2016-08-01   \n",
      "\n",
      "           PNK04      PNK05               PNK06       PNK07  \\\n",
      "0     2015-02-26 2015-02-27    SULAWESI SELATAN       BARRU   \n",
      "1     2015-09-23 2015-09-23  KALIMANTAN SELATAN       TAPIN   \n",
      "2     2019-09-29 2019-09-29               PAPUA    JAYAPURA   \n",
      "3     2019-09-12 2019-09-12         JAWA TENGAH     REMBANG   \n",
      "4     2019-10-17 2019-10-17         JAWA TENGAH     KEBUMEN   \n",
      "...          ...        ...                 ...         ...   \n",
      "36488 2018-08-06 2018-08-06    SULAWESI SELATAN        WAJO   \n",
      "36489 2019-03-09 2019-03-09          JAWA TIMUR       TUBAN   \n",
      "36490 2018-01-20 2018-01-20         PAPUA BARAT  RAJA AMPAT   \n",
      "36491 2017-05-03 2017-05-03         PAPUA BARAT  RAJA AMPAT   \n",
      "36492 2016-08-01 2016-08-01         PAPUA BARAT  RAJA AMPAT   \n",
      "\n",
      "                           PNK08  ...              PNK10 PNK11     PNK12  \\\n",
      "0      PEMERINTAH KABUPATEN/KOTA  ...         RAWAT INAP  RITP  PBI APBN   \n",
      "1      PEMERINTAH KABUPATEN/KOTA  ...         RAWAT INAP  RITP  PBI APBN   \n",
      "2                         TNI AD  ...  KLINIK RAWAT INAP  RITP       PPU   \n",
      "3      PEMERINTAH KABUPATEN/KOTA  ...         RAWAT INAP  RITP  PBI APBN   \n",
      "4      PEMERINTAH KABUPATEN/KOTA  ...         RAWAT INAP  RITP  PBI APBN   \n",
      "...                          ...  ...                ...   ...       ...   \n",
      "36488  PEMERINTAH KABUPATEN/KOTA  ...         RAWAT INAP  RJTP  PBI APBN   \n",
      "36489  PEMERINTAH KABUPATEN/KOTA  ...         RAWAT INAP  RJTP      PBPU   \n",
      "36490  PEMERINTAH KABUPATEN/KOTA  ...     NON RAWAT INAP  RJTP  PBI APBD   \n",
      "36491  PEMERINTAH KABUPATEN/KOTA  ...     NON RAWAT INAP  RJTP  PBI APBD   \n",
      "36492  PEMERINTAH KABUPATEN/KOTA  ...     NON RAWAT INAP  RJTP  PBI APBD   \n",
      "\n",
      "                                    PNK13 PNK13A PNK14  \\\n",
      "0                                     NaN    NaN  9999   \n",
      "1                                     NaN    NaN  9999   \n",
      "2      A01 Typhoid and paratyphoid fevers    A01  A010   \n",
      "3      A01 Typhoid and paratyphoid fevers    A01   A01   \n",
      "4      A01 Typhoid and paratyphoid fevers    A01   A01   \n",
      "...                                   ...    ...   ...   \n",
      "36488       Z97 Presence of other devices    Z97  Z975   \n",
      "36489       Z97 Presence of other devices    Z97  Z975   \n",
      "36490       Z97 Presence of other devices    Z97  Z975   \n",
      "36491       Z97 Presence of other devices    Z97  Z975   \n",
      "36492       Z97 Presence of other devices    Z97  Z975   \n",
      "\n",
      "                                                 PNK15  \\\n",
      "0                                                 9999   \n",
      "1                                                 9999   \n",
      "2                                        Typhoid fever   \n",
      "3                       Typhoid and paratyphoid fevers   \n",
      "4                       Typhoid and paratyphoid fevers   \n",
      "...                                                ...   \n",
      "36488  Presence of (intrauterine) contraceptive device   \n",
      "36489  Presence of (intrauterine) contraceptive device   \n",
      "36490  Presence of (intrauterine) contraceptive device   \n",
      "36491  Presence of (intrauterine) contraceptive device   \n",
      "36492  Presence of (intrauterine) contraceptive device   \n",
      "\n",
      "                                         PNK16   PNK17   PNK18  \n",
      "0              Evakuasi medis / Ambulans Darat  120000  120000  \n",
      "1             Rawat Inap di R. Perawatan Biasa  240000  240000  \n",
      "2             Rawat Inap di R. Perawatan Biasa  600000  600000  \n",
      "3             Rawat Inap di R. Perawatan Biasa  480000  480000  \n",
      "4             Rawat Inap di R. Perawatan Biasa  600000  600000  \n",
      "...                                        ...     ...     ...  \n",
      "36488  Pelayanan KB : Pemasangan IUD / Implant  100000  100000  \n",
      "36489  Pelayanan KB : Pemasangan IUD / Implant  100000  100000  \n",
      "36490                    Pelayanan KB : Suntik   15000   15000  \n",
      "36491                    Pelayanan KB : Suntik   15000   15000  \n",
      "36492                    Pelayanan KB : Suntik   15000   15000  \n",
      "\n",
      "[36493 rows x 21 columns]\n"
     ]
    }
   ],
   "source": [
    "import pandas as pd\n",
    "\n",
    "# Ganti 'nama_file.xlsx' dengan nama file sebenarnya\n",
    "nama_file_excel = 'fktpnonkapitasi.xlsx'\n",
    "\n",
    "# Membaca file Excel\n",
    "dataframe = pd.read_excel(nama_file_excel)\n",
    "\n",
    "# Menampilkan isi dataframe\n",
    "print(dataframe)"
   ]
  },
  {
   "cell_type": "markdown",
   "id": "6507a7fd",
   "metadata": {},
   "source": [
    "### Cleaning Data"
   ]
  },
  {
   "cell_type": "code",
   "execution_count": 2,
   "id": "0fcdce02",
   "metadata": {},
   "outputs": [],
   "source": [
    "# Menghilangkan Baris Duplikat\n",
    "dataframe.drop_duplicates(inplace=True)"
   ]
  },
  {
   "cell_type": "code",
   "execution_count": 3,
   "id": "d501a82c",
   "metadata": {},
   "outputs": [
    {
     "name": "stdout",
     "output_type": "stream",
     "text": [
      "          PSTV01     PSTV02        PSTV15             PNK02      PNK03  \\\n",
      "0       93858078   93216423  7.659537e+07  183920215Y000376 2015-02-26   \n",
      "1       93747649  346217457  1.800196e+07   19500915Y000074 2015-09-21   \n",
      "2      359887820   72989971  9.591551e-01  250630919P000299 2019-09-26   \n",
      "3       84126594   84126594  1.110887e+07  326360919P001086 2019-09-09   \n",
      "4       87558937   62126532  3.245183e+06  252721019P001142 2019-10-14   \n",
      "...          ...        ...           ...               ...        ...   \n",
      "36488  107435122  107435122  1.794652e+07  108680818Y000770 2018-08-06   \n",
      "36489  447273237  435380768  2.330930e+07  122070319Y000676 2019-03-09   \n",
      "36490   80686271  426470275  1.154869e+07  296600118Y000277 2018-01-20   \n",
      "36491   93887676   93887676  3.204735e+06  296600517Y000031 2017-05-03   \n",
      "36492   93887676   93887676  3.204735e+06  296600816Y000004 2016-08-01   \n",
      "\n",
      "           PNK04      PNK05               PNK06       PNK07  \\\n",
      "0     2015-02-26 2015-02-27    SULAWESI SELATAN       BARRU   \n",
      "1     2015-09-23 2015-09-23  KALIMANTAN SELATAN       TAPIN   \n",
      "2     2019-09-29 2019-09-29               PAPUA    JAYAPURA   \n",
      "3     2019-09-12 2019-09-12         JAWA TENGAH     REMBANG   \n",
      "4     2019-10-17 2019-10-17         JAWA TENGAH     KEBUMEN   \n",
      "...          ...        ...                 ...         ...   \n",
      "36488 2018-08-06 2018-08-06    SULAWESI SELATAN        WAJO   \n",
      "36489 2019-03-09 2019-03-09          JAWA TIMUR       TUBAN   \n",
      "36490 2018-01-20 2018-01-20         PAPUA BARAT  RAJA AMPAT   \n",
      "36491 2017-05-03 2017-05-03         PAPUA BARAT  RAJA AMPAT   \n",
      "36492 2016-08-01 2016-08-01         PAPUA BARAT  RAJA AMPAT   \n",
      "\n",
      "                           PNK08  ...              PNK10 PNK11     PNK12  \\\n",
      "0      PEMERINTAH KABUPATEN/KOTA  ...         RAWAT INAP  RITP  PBI APBN   \n",
      "1      PEMERINTAH KABUPATEN/KOTA  ...         RAWAT INAP  RITP  PBI APBN   \n",
      "2                         TNI AD  ...  KLINIK RAWAT INAP  RITP       PPU   \n",
      "3      PEMERINTAH KABUPATEN/KOTA  ...         RAWAT INAP  RITP  PBI APBN   \n",
      "4      PEMERINTAH KABUPATEN/KOTA  ...         RAWAT INAP  RITP  PBI APBN   \n",
      "...                          ...  ...                ...   ...       ...   \n",
      "36488  PEMERINTAH KABUPATEN/KOTA  ...         RAWAT INAP  RJTP  PBI APBN   \n",
      "36489  PEMERINTAH KABUPATEN/KOTA  ...         RAWAT INAP  RJTP      PBPU   \n",
      "36490  PEMERINTAH KABUPATEN/KOTA  ...     NON RAWAT INAP  RJTP  PBI APBD   \n",
      "36491  PEMERINTAH KABUPATEN/KOTA  ...     NON RAWAT INAP  RJTP  PBI APBD   \n",
      "36492  PEMERINTAH KABUPATEN/KOTA  ...     NON RAWAT INAP  RJTP  PBI APBD   \n",
      "\n",
      "                                    PNK13 PNK13A PNK14  \\\n",
      "0                                       0      0  9999   \n",
      "1                                       0      0  9999   \n",
      "2      A01 Typhoid and paratyphoid fevers    A01  A010   \n",
      "3      A01 Typhoid and paratyphoid fevers    A01   A01   \n",
      "4      A01 Typhoid and paratyphoid fevers    A01   A01   \n",
      "...                                   ...    ...   ...   \n",
      "36488       Z97 Presence of other devices    Z97  Z975   \n",
      "36489       Z97 Presence of other devices    Z97  Z975   \n",
      "36490       Z97 Presence of other devices    Z97  Z975   \n",
      "36491       Z97 Presence of other devices    Z97  Z975   \n",
      "36492       Z97 Presence of other devices    Z97  Z975   \n",
      "\n",
      "                                                 PNK15  \\\n",
      "0                                                 9999   \n",
      "1                                                 9999   \n",
      "2                                        Typhoid fever   \n",
      "3                       Typhoid and paratyphoid fevers   \n",
      "4                       Typhoid and paratyphoid fevers   \n",
      "...                                                ...   \n",
      "36488  Presence of (intrauterine) contraceptive device   \n",
      "36489  Presence of (intrauterine) contraceptive device   \n",
      "36490  Presence of (intrauterine) contraceptive device   \n",
      "36491  Presence of (intrauterine) contraceptive device   \n",
      "36492  Presence of (intrauterine) contraceptive device   \n",
      "\n",
      "                                         PNK16   PNK17   PNK18  \n",
      "0              Evakuasi medis / Ambulans Darat  120000  120000  \n",
      "1             Rawat Inap di R. Perawatan Biasa  240000  240000  \n",
      "2             Rawat Inap di R. Perawatan Biasa  600000  600000  \n",
      "3             Rawat Inap di R. Perawatan Biasa  480000  480000  \n",
      "4             Rawat Inap di R. Perawatan Biasa  600000  600000  \n",
      "...                                        ...     ...     ...  \n",
      "36488  Pelayanan KB : Pemasangan IUD / Implant  100000  100000  \n",
      "36489  Pelayanan KB : Pemasangan IUD / Implant  100000  100000  \n",
      "36490                    Pelayanan KB : Suntik   15000   15000  \n",
      "36491                    Pelayanan KB : Suntik   15000   15000  \n",
      "36492                    Pelayanan KB : Suntik   15000   15000  \n",
      "\n",
      "[36006 rows x 21 columns]\n"
     ]
    }
   ],
   "source": [
    "# Mengganti Nilai yang Hilang (Missing Values)\n",
    "nilai_tertentu = 0  # Ganti dengan nilai yang sesuai\n",
    "dataframe.fillna(nilai_tertentu, inplace=True)\n",
    "\n",
    "# Menampilkan isi dataframe setelah penggantian nilai yang hilang\n",
    "print(dataframe)"
   ]
  },
  {
   "cell_type": "code",
   "execution_count": 4,
   "id": "4fbffae9",
   "metadata": {},
   "outputs": [
    {
     "data": {
      "text/html": [
       "<div>\n",
       "<style scoped>\n",
       "    .dataframe tbody tr th:only-of-type {\n",
       "        vertical-align: middle;\n",
       "    }\n",
       "\n",
       "    .dataframe tbody tr th {\n",
       "        vertical-align: top;\n",
       "    }\n",
       "\n",
       "    .dataframe thead th {\n",
       "        text-align: right;\n",
       "    }\n",
       "</style>\n",
       "<table border=\"1\" class=\"dataframe\">\n",
       "  <thead>\n",
       "    <tr style=\"text-align: right;\">\n",
       "      <th></th>\n",
       "      <th>PSTV01</th>\n",
       "      <th>PSTV02</th>\n",
       "      <th>PSTV15</th>\n",
       "      <th>PNK02</th>\n",
       "      <th>PNK03</th>\n",
       "      <th>PNK04</th>\n",
       "      <th>PNK05</th>\n",
       "      <th>PNK06</th>\n",
       "      <th>PNK07</th>\n",
       "      <th>PNK08</th>\n",
       "      <th>...</th>\n",
       "      <th>PNK10</th>\n",
       "      <th>PNK11</th>\n",
       "      <th>PNK12</th>\n",
       "      <th>PNK13</th>\n",
       "      <th>PNK13A</th>\n",
       "      <th>PNK14</th>\n",
       "      <th>PNK15</th>\n",
       "      <th>PNK16</th>\n",
       "      <th>PNK17</th>\n",
       "      <th>PNK18</th>\n",
       "    </tr>\n",
       "  </thead>\n",
       "  <tbody>\n",
       "    <tr>\n",
       "      <th>0</th>\n",
       "      <td>93858078</td>\n",
       "      <td>93216423</td>\n",
       "      <td>7.659537e+07</td>\n",
       "      <td>183920215Y000376</td>\n",
       "      <td>2015-02-26</td>\n",
       "      <td>2015-02-26</td>\n",
       "      <td>2015-02-27</td>\n",
       "      <td>SULAWESI SELATAN</td>\n",
       "      <td>BARRU</td>\n",
       "      <td>PEMERINTAH KABUPATEN/KOTA</td>\n",
       "      <td>...</td>\n",
       "      <td>RAWAT INAP</td>\n",
       "      <td>RITP</td>\n",
       "      <td>PBI APBN</td>\n",
       "      <td>0</td>\n",
       "      <td>0</td>\n",
       "      <td>9999</td>\n",
       "      <td>9999</td>\n",
       "      <td>Evakuasi medis / Ambulans Darat</td>\n",
       "      <td>120000</td>\n",
       "      <td>120000</td>\n",
       "    </tr>\n",
       "    <tr>\n",
       "      <th>1</th>\n",
       "      <td>93747649</td>\n",
       "      <td>346217457</td>\n",
       "      <td>1.800196e+07</td>\n",
       "      <td>19500915Y000074</td>\n",
       "      <td>2015-09-21</td>\n",
       "      <td>2015-09-23</td>\n",
       "      <td>2015-09-23</td>\n",
       "      <td>KALIMANTAN SELATAN</td>\n",
       "      <td>TAPIN</td>\n",
       "      <td>PEMERINTAH KABUPATEN/KOTA</td>\n",
       "      <td>...</td>\n",
       "      <td>RAWAT INAP</td>\n",
       "      <td>RITP</td>\n",
       "      <td>PBI APBN</td>\n",
       "      <td>0</td>\n",
       "      <td>0</td>\n",
       "      <td>9999</td>\n",
       "      <td>9999</td>\n",
       "      <td>Rawat Inap di R. Perawatan Biasa</td>\n",
       "      <td>240000</td>\n",
       "      <td>240000</td>\n",
       "    </tr>\n",
       "    <tr>\n",
       "      <th>2</th>\n",
       "      <td>359887820</td>\n",
       "      <td>72989971</td>\n",
       "      <td>9.591551e-01</td>\n",
       "      <td>250630919P000299</td>\n",
       "      <td>2019-09-26</td>\n",
       "      <td>2019-09-29</td>\n",
       "      <td>2019-09-29</td>\n",
       "      <td>PAPUA</td>\n",
       "      <td>JAYAPURA</td>\n",
       "      <td>TNI AD</td>\n",
       "      <td>...</td>\n",
       "      <td>KLINIK RAWAT INAP</td>\n",
       "      <td>RITP</td>\n",
       "      <td>PPU</td>\n",
       "      <td>A01 Typhoid and paratyphoid fevers</td>\n",
       "      <td>A01</td>\n",
       "      <td>A010</td>\n",
       "      <td>Typhoid fever</td>\n",
       "      <td>Rawat Inap di R. Perawatan Biasa</td>\n",
       "      <td>600000</td>\n",
       "      <td>600000</td>\n",
       "    </tr>\n",
       "    <tr>\n",
       "      <th>3</th>\n",
       "      <td>84126594</td>\n",
       "      <td>84126594</td>\n",
       "      <td>1.110887e+07</td>\n",
       "      <td>326360919P001086</td>\n",
       "      <td>2019-09-09</td>\n",
       "      <td>2019-09-12</td>\n",
       "      <td>2019-09-12</td>\n",
       "      <td>JAWA TENGAH</td>\n",
       "      <td>REMBANG</td>\n",
       "      <td>PEMERINTAH KABUPATEN/KOTA</td>\n",
       "      <td>...</td>\n",
       "      <td>RAWAT INAP</td>\n",
       "      <td>RITP</td>\n",
       "      <td>PBI APBN</td>\n",
       "      <td>A01 Typhoid and paratyphoid fevers</td>\n",
       "      <td>A01</td>\n",
       "      <td>A01</td>\n",
       "      <td>Typhoid and paratyphoid fevers</td>\n",
       "      <td>Rawat Inap di R. Perawatan Biasa</td>\n",
       "      <td>480000</td>\n",
       "      <td>480000</td>\n",
       "    </tr>\n",
       "    <tr>\n",
       "      <th>4</th>\n",
       "      <td>87558937</td>\n",
       "      <td>62126532</td>\n",
       "      <td>3.245183e+06</td>\n",
       "      <td>252721019P001142</td>\n",
       "      <td>2019-10-14</td>\n",
       "      <td>2019-10-17</td>\n",
       "      <td>2019-10-17</td>\n",
       "      <td>JAWA TENGAH</td>\n",
       "      <td>KEBUMEN</td>\n",
       "      <td>PEMERINTAH KABUPATEN/KOTA</td>\n",
       "      <td>...</td>\n",
       "      <td>RAWAT INAP</td>\n",
       "      <td>RITP</td>\n",
       "      <td>PBI APBN</td>\n",
       "      <td>A01 Typhoid and paratyphoid fevers</td>\n",
       "      <td>A01</td>\n",
       "      <td>A01</td>\n",
       "      <td>Typhoid and paratyphoid fevers</td>\n",
       "      <td>Rawat Inap di R. Perawatan Biasa</td>\n",
       "      <td>600000</td>\n",
       "      <td>600000</td>\n",
       "    </tr>\n",
       "    <tr>\n",
       "      <th>...</th>\n",
       "      <td>...</td>\n",
       "      <td>...</td>\n",
       "      <td>...</td>\n",
       "      <td>...</td>\n",
       "      <td>...</td>\n",
       "      <td>...</td>\n",
       "      <td>...</td>\n",
       "      <td>...</td>\n",
       "      <td>...</td>\n",
       "      <td>...</td>\n",
       "      <td>...</td>\n",
       "      <td>...</td>\n",
       "      <td>...</td>\n",
       "      <td>...</td>\n",
       "      <td>...</td>\n",
       "      <td>...</td>\n",
       "      <td>...</td>\n",
       "      <td>...</td>\n",
       "      <td>...</td>\n",
       "      <td>...</td>\n",
       "      <td>...</td>\n",
       "    </tr>\n",
       "    <tr>\n",
       "      <th>36488</th>\n",
       "      <td>107435122</td>\n",
       "      <td>107435122</td>\n",
       "      <td>1.794652e+07</td>\n",
       "      <td>108680818Y000770</td>\n",
       "      <td>2018-08-06</td>\n",
       "      <td>2018-08-06</td>\n",
       "      <td>2018-08-06</td>\n",
       "      <td>SULAWESI SELATAN</td>\n",
       "      <td>WAJO</td>\n",
       "      <td>PEMERINTAH KABUPATEN/KOTA</td>\n",
       "      <td>...</td>\n",
       "      <td>RAWAT INAP</td>\n",
       "      <td>RJTP</td>\n",
       "      <td>PBI APBN</td>\n",
       "      <td>Z97 Presence of other devices</td>\n",
       "      <td>Z97</td>\n",
       "      <td>Z975</td>\n",
       "      <td>Presence of (intrauterine) contraceptive device</td>\n",
       "      <td>Pelayanan KB : Pemasangan IUD / Implant</td>\n",
       "      <td>100000</td>\n",
       "      <td>100000</td>\n",
       "    </tr>\n",
       "    <tr>\n",
       "      <th>36489</th>\n",
       "      <td>447273237</td>\n",
       "      <td>435380768</td>\n",
       "      <td>2.330930e+07</td>\n",
       "      <td>122070319Y000676</td>\n",
       "      <td>2019-03-09</td>\n",
       "      <td>2019-03-09</td>\n",
       "      <td>2019-03-09</td>\n",
       "      <td>JAWA TIMUR</td>\n",
       "      <td>TUBAN</td>\n",
       "      <td>PEMERINTAH KABUPATEN/KOTA</td>\n",
       "      <td>...</td>\n",
       "      <td>RAWAT INAP</td>\n",
       "      <td>RJTP</td>\n",
       "      <td>PBPU</td>\n",
       "      <td>Z97 Presence of other devices</td>\n",
       "      <td>Z97</td>\n",
       "      <td>Z975</td>\n",
       "      <td>Presence of (intrauterine) contraceptive device</td>\n",
       "      <td>Pelayanan KB : Pemasangan IUD / Implant</td>\n",
       "      <td>100000</td>\n",
       "      <td>100000</td>\n",
       "    </tr>\n",
       "    <tr>\n",
       "      <th>36490</th>\n",
       "      <td>80686271</td>\n",
       "      <td>426470275</td>\n",
       "      <td>1.154869e+07</td>\n",
       "      <td>296600118Y000277</td>\n",
       "      <td>2018-01-20</td>\n",
       "      <td>2018-01-20</td>\n",
       "      <td>2018-01-20</td>\n",
       "      <td>PAPUA BARAT</td>\n",
       "      <td>RAJA AMPAT</td>\n",
       "      <td>PEMERINTAH KABUPATEN/KOTA</td>\n",
       "      <td>...</td>\n",
       "      <td>NON RAWAT INAP</td>\n",
       "      <td>RJTP</td>\n",
       "      <td>PBI APBD</td>\n",
       "      <td>Z97 Presence of other devices</td>\n",
       "      <td>Z97</td>\n",
       "      <td>Z975</td>\n",
       "      <td>Presence of (intrauterine) contraceptive device</td>\n",
       "      <td>Pelayanan KB : Suntik</td>\n",
       "      <td>15000</td>\n",
       "      <td>15000</td>\n",
       "    </tr>\n",
       "    <tr>\n",
       "      <th>36491</th>\n",
       "      <td>93887676</td>\n",
       "      <td>93887676</td>\n",
       "      <td>3.204735e+06</td>\n",
       "      <td>296600517Y000031</td>\n",
       "      <td>2017-05-03</td>\n",
       "      <td>2017-05-03</td>\n",
       "      <td>2017-05-03</td>\n",
       "      <td>PAPUA BARAT</td>\n",
       "      <td>RAJA AMPAT</td>\n",
       "      <td>PEMERINTAH KABUPATEN/KOTA</td>\n",
       "      <td>...</td>\n",
       "      <td>NON RAWAT INAP</td>\n",
       "      <td>RJTP</td>\n",
       "      <td>PBI APBD</td>\n",
       "      <td>Z97 Presence of other devices</td>\n",
       "      <td>Z97</td>\n",
       "      <td>Z975</td>\n",
       "      <td>Presence of (intrauterine) contraceptive device</td>\n",
       "      <td>Pelayanan KB : Suntik</td>\n",
       "      <td>15000</td>\n",
       "      <td>15000</td>\n",
       "    </tr>\n",
       "    <tr>\n",
       "      <th>36492</th>\n",
       "      <td>93887676</td>\n",
       "      <td>93887676</td>\n",
       "      <td>3.204735e+06</td>\n",
       "      <td>296600816Y000004</td>\n",
       "      <td>2016-08-01</td>\n",
       "      <td>2016-08-01</td>\n",
       "      <td>2016-08-01</td>\n",
       "      <td>PAPUA BARAT</td>\n",
       "      <td>RAJA AMPAT</td>\n",
       "      <td>PEMERINTAH KABUPATEN/KOTA</td>\n",
       "      <td>...</td>\n",
       "      <td>NON RAWAT INAP</td>\n",
       "      <td>RJTP</td>\n",
       "      <td>PBI APBD</td>\n",
       "      <td>Z97 Presence of other devices</td>\n",
       "      <td>Z97</td>\n",
       "      <td>Z975</td>\n",
       "      <td>Presence of (intrauterine) contraceptive device</td>\n",
       "      <td>Pelayanan KB : Suntik</td>\n",
       "      <td>15000</td>\n",
       "      <td>15000</td>\n",
       "    </tr>\n",
       "  </tbody>\n",
       "</table>\n",
       "<p>36006 rows × 21 columns</p>\n",
       "</div>"
      ],
      "text/plain": [
       "          PSTV01     PSTV02        PSTV15             PNK02      PNK03  \\\n",
       "0       93858078   93216423  7.659537e+07  183920215Y000376 2015-02-26   \n",
       "1       93747649  346217457  1.800196e+07   19500915Y000074 2015-09-21   \n",
       "2      359887820   72989971  9.591551e-01  250630919P000299 2019-09-26   \n",
       "3       84126594   84126594  1.110887e+07  326360919P001086 2019-09-09   \n",
       "4       87558937   62126532  3.245183e+06  252721019P001142 2019-10-14   \n",
       "...          ...        ...           ...               ...        ...   \n",
       "36488  107435122  107435122  1.794652e+07  108680818Y000770 2018-08-06   \n",
       "36489  447273237  435380768  2.330930e+07  122070319Y000676 2019-03-09   \n",
       "36490   80686271  426470275  1.154869e+07  296600118Y000277 2018-01-20   \n",
       "36491   93887676   93887676  3.204735e+06  296600517Y000031 2017-05-03   \n",
       "36492   93887676   93887676  3.204735e+06  296600816Y000004 2016-08-01   \n",
       "\n",
       "           PNK04      PNK05               PNK06       PNK07  \\\n",
       "0     2015-02-26 2015-02-27    SULAWESI SELATAN       BARRU   \n",
       "1     2015-09-23 2015-09-23  KALIMANTAN SELATAN       TAPIN   \n",
       "2     2019-09-29 2019-09-29               PAPUA    JAYAPURA   \n",
       "3     2019-09-12 2019-09-12         JAWA TENGAH     REMBANG   \n",
       "4     2019-10-17 2019-10-17         JAWA TENGAH     KEBUMEN   \n",
       "...          ...        ...                 ...         ...   \n",
       "36488 2018-08-06 2018-08-06    SULAWESI SELATAN        WAJO   \n",
       "36489 2019-03-09 2019-03-09          JAWA TIMUR       TUBAN   \n",
       "36490 2018-01-20 2018-01-20         PAPUA BARAT  RAJA AMPAT   \n",
       "36491 2017-05-03 2017-05-03         PAPUA BARAT  RAJA AMPAT   \n",
       "36492 2016-08-01 2016-08-01         PAPUA BARAT  RAJA AMPAT   \n",
       "\n",
       "                           PNK08  ...              PNK10 PNK11     PNK12  \\\n",
       "0      PEMERINTAH KABUPATEN/KOTA  ...         RAWAT INAP  RITP  PBI APBN   \n",
       "1      PEMERINTAH KABUPATEN/KOTA  ...         RAWAT INAP  RITP  PBI APBN   \n",
       "2                         TNI AD  ...  KLINIK RAWAT INAP  RITP       PPU   \n",
       "3      PEMERINTAH KABUPATEN/KOTA  ...         RAWAT INAP  RITP  PBI APBN   \n",
       "4      PEMERINTAH KABUPATEN/KOTA  ...         RAWAT INAP  RITP  PBI APBN   \n",
       "...                          ...  ...                ...   ...       ...   \n",
       "36488  PEMERINTAH KABUPATEN/KOTA  ...         RAWAT INAP  RJTP  PBI APBN   \n",
       "36489  PEMERINTAH KABUPATEN/KOTA  ...         RAWAT INAP  RJTP      PBPU   \n",
       "36490  PEMERINTAH KABUPATEN/KOTA  ...     NON RAWAT INAP  RJTP  PBI APBD   \n",
       "36491  PEMERINTAH KABUPATEN/KOTA  ...     NON RAWAT INAP  RJTP  PBI APBD   \n",
       "36492  PEMERINTAH KABUPATEN/KOTA  ...     NON RAWAT INAP  RJTP  PBI APBD   \n",
       "\n",
       "                                    PNK13 PNK13A PNK14  \\\n",
       "0                                       0      0  9999   \n",
       "1                                       0      0  9999   \n",
       "2      A01 Typhoid and paratyphoid fevers    A01  A010   \n",
       "3      A01 Typhoid and paratyphoid fevers    A01   A01   \n",
       "4      A01 Typhoid and paratyphoid fevers    A01   A01   \n",
       "...                                   ...    ...   ...   \n",
       "36488       Z97 Presence of other devices    Z97  Z975   \n",
       "36489       Z97 Presence of other devices    Z97  Z975   \n",
       "36490       Z97 Presence of other devices    Z97  Z975   \n",
       "36491       Z97 Presence of other devices    Z97  Z975   \n",
       "36492       Z97 Presence of other devices    Z97  Z975   \n",
       "\n",
       "                                                 PNK15  \\\n",
       "0                                                 9999   \n",
       "1                                                 9999   \n",
       "2                                        Typhoid fever   \n",
       "3                       Typhoid and paratyphoid fevers   \n",
       "4                       Typhoid and paratyphoid fevers   \n",
       "...                                                ...   \n",
       "36488  Presence of (intrauterine) contraceptive device   \n",
       "36489  Presence of (intrauterine) contraceptive device   \n",
       "36490  Presence of (intrauterine) contraceptive device   \n",
       "36491  Presence of (intrauterine) contraceptive device   \n",
       "36492  Presence of (intrauterine) contraceptive device   \n",
       "\n",
       "                                         PNK16   PNK17   PNK18  \n",
       "0              Evakuasi medis / Ambulans Darat  120000  120000  \n",
       "1             Rawat Inap di R. Perawatan Biasa  240000  240000  \n",
       "2             Rawat Inap di R. Perawatan Biasa  600000  600000  \n",
       "3             Rawat Inap di R. Perawatan Biasa  480000  480000  \n",
       "4             Rawat Inap di R. Perawatan Biasa  600000  600000  \n",
       "...                                        ...     ...     ...  \n",
       "36488  Pelayanan KB : Pemasangan IUD / Implant  100000  100000  \n",
       "36489  Pelayanan KB : Pemasangan IUD / Implant  100000  100000  \n",
       "36490                    Pelayanan KB : Suntik   15000   15000  \n",
       "36491                    Pelayanan KB : Suntik   15000   15000  \n",
       "36492                    Pelayanan KB : Suntik   15000   15000  \n",
       "\n",
       "[36006 rows x 21 columns]"
      ]
     },
     "execution_count": 4,
     "metadata": {},
     "output_type": "execute_result"
    }
   ],
   "source": [
    "# Menghapus Baris atau Kolom dengan Nilai yang Hilang\n",
    "dataframe.dropna(axis=0)  # untuk menghapus baris\n",
    "dataframe.dropna(axis=1)  # untuk menghapus kolom"
   ]
  },
  {
   "cell_type": "code",
   "execution_count": 5,
   "id": "3ffd904a",
   "metadata": {},
   "outputs": [
    {
     "name": "stdout",
     "output_type": "stream",
     "text": [
      "          PSTV01     PSTV02      PSTV15             PNK02      PNK03  \\\n",
      "16     380665968   79105174  77371845.0  326441221P000568 2021-12-12   \n",
      "21       2829328   82385224  16625354.0  310450121P000350 2021-01-24   \n",
      "22     405151945  405151945  11816345.0  203490121P000812 2021-01-26   \n",
      "73      48109427   48109427   8762647.0   89411220P001121 2020-12-31   \n",
      "78      84623344   84623344  63545923.0  107380421P001224 2021-04-21   \n",
      "...          ...        ...         ...               ...        ...   \n",
      "36470   27651694  325386495   4735886.0  129021021P000482 2021-10-19   \n",
      "36471  413554295  362828666  59456315.0  277220121P000017 2021-01-04   \n",
      "36472   91793201   91793201  11153269.0  344640121P001554 2021-01-14   \n",
      "36473   47870233  329612503  10557176.0   16910121P002189 2021-01-19   \n",
      "36483   88069454   88069454   4764698.0  424091121P002796 2021-11-26   \n",
      "\n",
      "           PNK04      PNK05                PNK06               PNK07  \\\n",
      "16    2021-12-14 2021-12-14          JAWA TENGAH             REMBANG   \n",
      "21    2021-01-26 2021-01-26                 RIAU          KOTA DUMAI   \n",
      "22    2021-01-29 2021-01-29  NUSA TENGGARA BARAT       LOMBOK TENGAH   \n",
      "73    2021-01-05 2021-01-05           JAWA TIMUR            LAMONGAN   \n",
      "78    2021-04-24 2021-04-24  NUSA TENGGARA BARAT        LOMBOK BARAT   \n",
      "...          ...        ...                  ...                 ...   \n",
      "36470 2021-10-19 2021-10-19       SUMATERA UTARA  LABUHAN BATU UTARA   \n",
      "36471 2021-01-04 2021-01-04     SULAWESI SELATAN             SOPPENG   \n",
      "36472 2021-01-14 2021-01-14       SUMATERA BARAT     PESISIR SELATAN   \n",
      "36473 2021-01-19 2021-01-19  NUSA TENGGARA BARAT           KOTA BIMA   \n",
      "36483 2021-11-26 2021-11-26               BANTEN               LEBAK   \n",
      "\n",
      "                           PNK08  ...                  PNK10 PNK11     PNK12  \\\n",
      "16     PEMERINTAH KABUPATEN/KOTA  ...             RAWAT INAP  RITP       PPU   \n",
      "21                        SWASTA  ...      KLINIK RAWAT INAP  RITP       PPU   \n",
      "22     PEMERINTAH KABUPATEN/KOTA  ...             RAWAT INAP  RITP  PBI APBN   \n",
      "73     PEMERINTAH KABUPATEN/KOTA  ...             RAWAT INAP  RITP       PPU   \n",
      "78     PEMERINTAH KABUPATEN/KOTA  ...             RAWAT INAP  RITP  PBI APBN   \n",
      "...                          ...  ...                    ...   ...       ...   \n",
      "36470  PEMERINTAH KABUPATEN/KOTA  ...             RAWAT INAP  RJTP  PBI APBD   \n",
      "36471  PEMERINTAH KABUPATEN/KOTA  ...             RAWAT INAP  RJTP  PBI APBD   \n",
      "36472  PEMERINTAH KABUPATEN/KOTA  ...             RAWAT INAP  RJTP      PBPU   \n",
      "36473  PEMERINTAH KABUPATEN/KOTA  ...             RAWAT INAP  RJTP  PBI APBD   \n",
      "36483                     SWASTA  ...  KLINIK NON RAWAT INAP  RJTP       PPU   \n",
      "\n",
      "                                           PNK13 PNK13A PNK14  \\\n",
      "16            A01 Typhoid and paratyphoid fevers    A01   A01   \n",
      "21            A01 Typhoid and paratyphoid fevers    A01  A010   \n",
      "22            A01 Typhoid and paratyphoid fevers    A01  A010   \n",
      "73            A01 Typhoid and paratyphoid fevers    A01  A010   \n",
      "78            A01 Typhoid and paratyphoid fevers    A01  A010   \n",
      "...                                          ...    ...   ...   \n",
      "36470  Z96 Presence of other functional implants    Z96  Z967   \n",
      "36471  Z96 Presence of other functional implants    Z96   Z96   \n",
      "36472              Z97 Presence of other devices    Z97  Z975   \n",
      "36473              Z97 Presence of other devices    Z97  Z975   \n",
      "36483              Z97 Presence of other devices    Z97  Z975   \n",
      "\n",
      "                                                 PNK15  \\\n",
      "16                      Typhoid and paratyphoid fevers   \n",
      "21                                       Typhoid fever   \n",
      "22                                       Typhoid fever   \n",
      "73                                       Typhoid fever   \n",
      "78                                       Typhoid fever   \n",
      "...                                                ...   \n",
      "36470       Presence of other bone and tendon implants   \n",
      "36471            Presence of other functional implants   \n",
      "36472  Presence of (intrauterine) contraceptive device   \n",
      "36473  Presence of (intrauterine) contraceptive device   \n",
      "36483  Presence of (intrauterine) contraceptive device   \n",
      "\n",
      "                                         PNK16   PNK17   PNK18  \n",
      "16            Rawat Inap di R. Perawatan Biasa  320000  320000  \n",
      "21            Rawat Inap di R. Perawatan Biasa  240000  240000  \n",
      "22            Rawat Inap di R. Perawatan Biasa  540000  540000  \n",
      "73            Rawat Inap di R. Perawatan Biasa  900000  900000  \n",
      "78            Rawat Inap di R. Perawatan Biasa  540000  540000  \n",
      "...                                        ...     ...     ...  \n",
      "36470  Pelayanan KB : Pemasangan IUD / Implant  100000  100000  \n",
      "36471  Pelayanan KB : Pemasangan IUD / Implant  100000  100000  \n",
      "36472  Pelayanan KB : Pemasangan IUD / Implant  100000  100000  \n",
      "36473  Pelayanan KB : Pemasangan IUD / Implant  100000  100000  \n",
      "36483  Pelayanan KB : Pemasangan IUD / Implant  100000  100000  \n",
      "\n",
      "[7453 rows x 21 columns]\n"
     ]
    }
   ],
   "source": [
    "# Mengubah kolom PNK03, PNK04, dan PNK05 menjadi tipe data datetime\n",
    "dataframe['PNK03'] = pd.to_datetime(dataframe['PNK03'], errors='coerce')\n",
    "dataframe['PNK04'] = pd.to_datetime(dataframe['PNK04'], errors='coerce')\n",
    "dataframe['PNK05'] = pd.to_datetime(dataframe['PNK05'], errors='coerce')\n",
    "\n",
    "# Menyaring data hanya untuk tahun 2021\n",
    "dataframe_2021 = dataframe[dataframe['PNK03'].dt.year == 2021]\n",
    "dataframe_2021 = dataframe[dataframe['PNK04'].dt.year == 2021]\n",
    "dataframe_2021 = dataframe[dataframe['PNK05'].dt.year == 2021]\n",
    "\n",
    "# Menampilkan isi dataframe setelah penyaringan\n",
    "print(dataframe_2021)"
   ]
  },
  {
   "cell_type": "code",
   "execution_count": 6,
   "id": "f32d071c",
   "metadata": {},
   "outputs": [],
   "source": [
    "# Get the years to be deleted\n",
    "delete_years = [2015, 2016, 2017, 2018, 2019, 2020]\n",
    "\n",
    "# Create masks for each column\n",
    "mask_PNK03 = dataframe[\"PNK03\"].isin(delete_years)\n",
    "mask_PNK04 = dataframe[\"PNK04\"].isin(delete_years)\n",
    "mask_PNK05 = dataframe[\"PNK05\"].isin(delete_years)\n",
    "\n",
    "# Combine masks\n",
    "mask = mask_PNK03 | mask_PNK04 | mask_PNK05\n",
    "\n",
    "# Delete data\n",
    "df = dataframe[~mask]"
   ]
  },
  {
   "cell_type": "code",
   "execution_count": 8,
   "id": "35f74c35",
   "metadata": {},
   "outputs": [
    {
     "data": {
      "text/html": [
       "<a href='fktpnonkapitasiCleaned.xlsx' target='_blank'>fktpnonkapitasiCleaned.xlsx</a><br>"
      ],
      "text/plain": [
       "C:\\Users\\user\\fktpnonkapitasiCleaned.xlsx"
      ]
     },
     "execution_count": 8,
     "metadata": {},
     "output_type": "execute_result"
    }
   ],
   "source": [
    "from IPython.display import FileLink\n",
    "\n",
    "# Ganti 'nama_file.xlsx' dengan nama file sebenarnya\n",
    "nama_file_excel_output = 'fktpnonkapitasiCleaned.xlsx'\n",
    "\n",
    "# Menyimpan DataFrame ke dalam file Excel\n",
    "dataframe_2021.to_excel(nama_file_excel_output, index=False)\n",
    "\n",
    "# Membuat tautan untuk mengunduh file Excel\n",
    "FileLink(nama_file_excel_output)"
   ]
  },
  {
   "cell_type": "code",
   "execution_count": null,
   "id": "ddb3280b",
   "metadata": {},
   "outputs": [],
   "source": [
    "df = pd.read_stata(\"TB20152021_fktpnonkapitasi.dta\") \n",
    "#melihat dataset "
   ]
  },
  {
   "cell_type": "markdown",
   "id": "1c20e373",
   "metadata": {},
   "source": [
    "### Build Model"
   ]
  },
  {
   "cell_type": "code",
   "execution_count": 1,
   "id": "6f3c8c31",
   "metadata": {},
   "outputs": [],
   "source": [
    "import pandas as pd\n",
    "import numpy as np\n",
    "import seaborn as sns\n",
    "%matplotlib inline\n",
    "import maimport pandas as pd\n",
    "\n",
    "# Ganti 'nama_file.xlsx' dengan nama file sebenarnya\n",
    "nama_file_excel = 'fktpnonkapitasi.xlsx'\n",
    "\n",
    "# Membaca file Excel\n",
    "dataframe = pd.read_excel(nama_file_excel)\n",
    "\n",
    "# Menampilkan isi dataframe\n",
    "print(dataframe)\n",
    "\n",
    "# Menghilangkan Baris Duplikat\n",
    "dataframe.drop_duplicates(inplace=True)\n",
    "\n",
    "# Mengganti Nilai yang Hilang (Missing Values)\n",
    "nilai_tertentu = 0  # Ganti dengan nilai yang sesuai\n",
    "dataframe.fillna(nilai_tertentu, inplace=True)\n",
    "\n",
    "# Menampilkan isi dataframe setelah penggantian nilai yang hilang\n",
    "print(dataframe)\n",
    "\n",
    "# Menghapus Baris atau Kolom dengan Nilai yang Hilang\n",
    "dataframe.dropna(axis=0)  # untuk menghapus baris\n",
    "dataframe.dropna(axis=1)  # untuk menghapus kolom\n",
    "\n",
    "# Mengubah kolom PNK03, PNK04, dan PNK05 menjadi tipe data datetime\n",
    "dataframe['PNK03'] = pd.to_datetime(dataframe['PNK03'], errors='coerce')\n",
    "dataframe['PNK04'] = pd.to_datetime(dataframe['PNK04'], errors='coerce')\n",
    "dataframe['PNK05'] = pd.to_datetime(dataframe['PNK05'], errors='coerce')\n",
    "\n",
    "# Menyaring data hanya untuk tahun 2021\n",
    "dataframe_2021 = dataframe[dataframe['PNK03'].dt.year == 2021]\n",
    "dataframe_2021 = dataframe[dataframe['PNK04'].dt.year == 2021]\n",
    "dataframe_2021 = dataframe[dataframe['PNK05'].dt.year == 2021]\n",
    "\n",
    "# Menampilkan isi dataframe setelah penyaringan\n",
    "print(dataframe_2021)\n",
    "\n",
    "# Get the years to be deleted\n",
    "delete_years = [2015, 2016, 2017, 2018, 2019, 2020]\n",
    "\n",
    "# Create masks for each column\n",
    "mask_PNK03 = dataframe[\"PNK03\"].isin(delete_years)\n",
    "mask_PNK04 = dataframe[\"PNK04\"].isin(delete_years)\n",
    "mask_PNK05 = dataframe[\"PNK05\"].isin(delete_years)\n",
    "\n",
    "# Combine masks\n",
    "mask = mask_PNK03 | mask_PNK04 | mask_PNK05\n",
    "\n",
    "# Delete data\n",
    "df = dataframe[~mask]\n",
    "\n",
    "from IPython.display import FileLink\n",
    "\n",
    "# Ganti 'nama_file.xlsx' dengan nama file sebenarnya\n",
    "nama_file_excel_output = 'fktpnonkapitasiCleaned.xlsx'\n",
    "\n",
    "# Menyimpan DataFrame ke dalam file Excel\n",
    "dataframe_2021.to_excel(nama_file_excel_output, index=False)\n",
    "\n",
    "# Membuat tautan untuk mengunduh file Excel\n",
    "FileLink(nama_file_excel_output)\n",
    "\n",
    "df = pd.read_stata(\"TB20152021_fktpnonkapitasi.dta\") \n",
    "#melihat dataset tplotlib.pyplot as plt\n",
    "import math\n",
    "import sklearn\n",
    "from sklearn.model_selection import train_test_split"
   ]
  },
  {
   "cell_type": "code",
   "execution_count": 2,
   "id": "bf88ea8e",
   "metadata": {
    "scrolled": true
   },
   "outputs": [
    {
     "data": {
      "text/html": [
       "<div>\n",
       "<style scoped>\n",
       "    .dataframe tbody tr th:only-of-type {\n",
       "        vertical-align: middle;\n",
       "    }\n",
       "\n",
       "    .dataframe tbody tr th {\n",
       "        vertical-align: top;\n",
       "    }\n",
       "\n",
       "    .dataframe thead th {\n",
       "        text-align: right;\n",
       "    }\n",
       "</style>\n",
       "<table border=\"1\" class=\"dataframe\">\n",
       "  <thead>\n",
       "    <tr style=\"text-align: right;\">\n",
       "      <th></th>\n",
       "      <th>PSTV01</th>\n",
       "      <th>PSTV02</th>\n",
       "      <th>PSTV15</th>\n",
       "      <th>PNK02</th>\n",
       "      <th>PNK03</th>\n",
       "      <th>PNK04</th>\n",
       "      <th>PNK05</th>\n",
       "      <th>PNK06</th>\n",
       "      <th>PNK07</th>\n",
       "      <th>PNK08</th>\n",
       "      <th>...</th>\n",
       "      <th>PNK10</th>\n",
       "      <th>PNK11</th>\n",
       "      <th>PNK12</th>\n",
       "      <th>PNK13</th>\n",
       "      <th>PNK13A</th>\n",
       "      <th>PNK14</th>\n",
       "      <th>PNK15</th>\n",
       "      <th>PNK16</th>\n",
       "      <th>PNK17</th>\n",
       "      <th>PNK18</th>\n",
       "    </tr>\n",
       "  </thead>\n",
       "  <tbody>\n",
       "    <tr>\n",
       "      <th>0</th>\n",
       "      <td>380665968</td>\n",
       "      <td>79105174</td>\n",
       "      <td>77371845.0</td>\n",
       "      <td>326441221P000568</td>\n",
       "      <td>2021-12-12 00:00:00</td>\n",
       "      <td>2021-12-14 00:00:00</td>\n",
       "      <td>2021-12-14 00:00:00</td>\n",
       "      <td>JAWA TENGAH</td>\n",
       "      <td>REMBANG</td>\n",
       "      <td>PEMERINTAH KABUPATEN/KOTA</td>\n",
       "      <td>...</td>\n",
       "      <td>RAWAT INAP</td>\n",
       "      <td>RITP</td>\n",
       "      <td>PPU</td>\n",
       "      <td>A01 Typhoid and paratyphoid fevers</td>\n",
       "      <td>A01</td>\n",
       "      <td>A01</td>\n",
       "      <td>Typhoid and paratyphoid fevers</td>\n",
       "      <td>Rawat Inap di R. Perawatan Biasa</td>\n",
       "      <td>320000</td>\n",
       "      <td>320000</td>\n",
       "    </tr>\n",
       "    <tr>\n",
       "      <th>1</th>\n",
       "      <td>2829328</td>\n",
       "      <td>82385224</td>\n",
       "      <td>16625354.0</td>\n",
       "      <td>310450121P000350</td>\n",
       "      <td>2021-01-24 00:00:00</td>\n",
       "      <td>2021-01-26 00:00:00</td>\n",
       "      <td>2021-01-26 00:00:00</td>\n",
       "      <td>RIAU</td>\n",
       "      <td>KOTA DUMAI</td>\n",
       "      <td>SWASTA</td>\n",
       "      <td>...</td>\n",
       "      <td>KLINIK RAWAT INAP</td>\n",
       "      <td>RITP</td>\n",
       "      <td>PPU</td>\n",
       "      <td>A01 Typhoid and paratyphoid fevers</td>\n",
       "      <td>A01</td>\n",
       "      <td>A010</td>\n",
       "      <td>Typhoid fever</td>\n",
       "      <td>Rawat Inap di R. Perawatan Biasa</td>\n",
       "      <td>240000</td>\n",
       "      <td>240000</td>\n",
       "    </tr>\n",
       "    <tr>\n",
       "      <th>2</th>\n",
       "      <td>405151945</td>\n",
       "      <td>405151945</td>\n",
       "      <td>11816345.0</td>\n",
       "      <td>203490121P000812</td>\n",
       "      <td>2021-01-26 00:00:00</td>\n",
       "      <td>2021-01-29 00:00:00</td>\n",
       "      <td>2021-01-29 00:00:00</td>\n",
       "      <td>NUSA TENGGARA BARAT</td>\n",
       "      <td>LOMBOK TENGAH</td>\n",
       "      <td>PEMERINTAH KABUPATEN/KOTA</td>\n",
       "      <td>...</td>\n",
       "      <td>RAWAT INAP</td>\n",
       "      <td>RITP</td>\n",
       "      <td>PBI APBN</td>\n",
       "      <td>A01 Typhoid and paratyphoid fevers</td>\n",
       "      <td>A01</td>\n",
       "      <td>A010</td>\n",
       "      <td>Typhoid fever</td>\n",
       "      <td>Rawat Inap di R. Perawatan Biasa</td>\n",
       "      <td>540000</td>\n",
       "      <td>540000</td>\n",
       "    </tr>\n",
       "    <tr>\n",
       "      <th>3</th>\n",
       "      <td>48109427</td>\n",
       "      <td>48109427</td>\n",
       "      <td>8762647.0</td>\n",
       "      <td>89411220P001121</td>\n",
       "      <td>2020-12-31 00:00:00</td>\n",
       "      <td>2021-01-05 00:00:00</td>\n",
       "      <td>2021-01-05 00:00:00</td>\n",
       "      <td>JAWA TIMUR</td>\n",
       "      <td>LAMONGAN</td>\n",
       "      <td>PEMERINTAH KABUPATEN/KOTA</td>\n",
       "      <td>...</td>\n",
       "      <td>RAWAT INAP</td>\n",
       "      <td>RITP</td>\n",
       "      <td>PPU</td>\n",
       "      <td>A01 Typhoid and paratyphoid fevers</td>\n",
       "      <td>A01</td>\n",
       "      <td>A010</td>\n",
       "      <td>Typhoid fever</td>\n",
       "      <td>Rawat Inap di R. Perawatan Biasa</td>\n",
       "      <td>900000</td>\n",
       "      <td>900000</td>\n",
       "    </tr>\n",
       "    <tr>\n",
       "      <th>4</th>\n",
       "      <td>84623344</td>\n",
       "      <td>84623344</td>\n",
       "      <td>63545923.0</td>\n",
       "      <td>107380421P001224</td>\n",
       "      <td>2021-04-21 00:00:00</td>\n",
       "      <td>2021-04-24 00:00:00</td>\n",
       "      <td>2021-04-24 00:00:00</td>\n",
       "      <td>NUSA TENGGARA BARAT</td>\n",
       "      <td>LOMBOK BARAT</td>\n",
       "      <td>PEMERINTAH KABUPATEN/KOTA</td>\n",
       "      <td>...</td>\n",
       "      <td>RAWAT INAP</td>\n",
       "      <td>RITP</td>\n",
       "      <td>PBI APBN</td>\n",
       "      <td>A01 Typhoid and paratyphoid fevers</td>\n",
       "      <td>A01</td>\n",
       "      <td>A010</td>\n",
       "      <td>Typhoid fever</td>\n",
       "      <td>Rawat Inap di R. Perawatan Biasa</td>\n",
       "      <td>540000</td>\n",
       "      <td>540000</td>\n",
       "    </tr>\n",
       "  </tbody>\n",
       "</table>\n",
       "<p>5 rows × 21 columns</p>\n",
       "</div>"
      ],
      "text/plain": [
       "      PSTV01     PSTV02      PSTV15             PNK02                PNK03  \\\n",
       "0  380665968   79105174  77371845.0  326441221P000568  2021-12-12 00:00:00   \n",
       "1    2829328   82385224  16625354.0  310450121P000350  2021-01-24 00:00:00   \n",
       "2  405151945  405151945  11816345.0  203490121P000812  2021-01-26 00:00:00   \n",
       "3   48109427   48109427   8762647.0   89411220P001121  2020-12-31 00:00:00   \n",
       "4   84623344   84623344  63545923.0  107380421P001224  2021-04-21 00:00:00   \n",
       "\n",
       "                 PNK04                PNK05                PNK06  \\\n",
       "0  2021-12-14 00:00:00  2021-12-14 00:00:00          JAWA TENGAH   \n",
       "1  2021-01-26 00:00:00  2021-01-26 00:00:00                 RIAU   \n",
       "2  2021-01-29 00:00:00  2021-01-29 00:00:00  NUSA TENGGARA BARAT   \n",
       "3  2021-01-05 00:00:00  2021-01-05 00:00:00           JAWA TIMUR   \n",
       "4  2021-04-24 00:00:00  2021-04-24 00:00:00  NUSA TENGGARA BARAT   \n",
       "\n",
       "           PNK07                      PNK08  ...              PNK10 PNK11  \\\n",
       "0        REMBANG  PEMERINTAH KABUPATEN/KOTA  ...         RAWAT INAP  RITP   \n",
       "1     KOTA DUMAI                     SWASTA  ...  KLINIK RAWAT INAP  RITP   \n",
       "2  LOMBOK TENGAH  PEMERINTAH KABUPATEN/KOTA  ...         RAWAT INAP  RITP   \n",
       "3       LAMONGAN  PEMERINTAH KABUPATEN/KOTA  ...         RAWAT INAP  RITP   \n",
       "4   LOMBOK BARAT  PEMERINTAH KABUPATEN/KOTA  ...         RAWAT INAP  RITP   \n",
       "\n",
       "      PNK12                               PNK13 PNK13A PNK14  \\\n",
       "0       PPU  A01 Typhoid and paratyphoid fevers    A01   A01   \n",
       "1       PPU  A01 Typhoid and paratyphoid fevers    A01  A010   \n",
       "2  PBI APBN  A01 Typhoid and paratyphoid fevers    A01  A010   \n",
       "3       PPU  A01 Typhoid and paratyphoid fevers    A01  A010   \n",
       "4  PBI APBN  A01 Typhoid and paratyphoid fevers    A01  A010   \n",
       "\n",
       "                            PNK15                             PNK16   PNK17  \\\n",
       "0  Typhoid and paratyphoid fevers  Rawat Inap di R. Perawatan Biasa  320000   \n",
       "1                   Typhoid fever  Rawat Inap di R. Perawatan Biasa  240000   \n",
       "2                   Typhoid fever  Rawat Inap di R. Perawatan Biasa  540000   \n",
       "3                   Typhoid fever  Rawat Inap di R. Perawatan Biasa  900000   \n",
       "4                   Typhoid fever  Rawat Inap di R. Perawatan Biasa  540000   \n",
       "\n",
       "    PNK18  \n",
       "0  320000  \n",
       "1  240000  \n",
       "2  540000  \n",
       "3  900000  \n",
       "4  540000  \n",
       "\n",
       "[5 rows x 21 columns]"
      ]
     },
     "execution_count": 2,
     "metadata": {},
     "output_type": "execute_result"
    }
   ],
   "source": [
    "#Read the data, show the head\n",
    "df = pd.read_csv('fktpnonkapitasi.csv')\n",
    "df.head()"
   ]
  },
  {
   "cell_type": "code",
   "execution_count": 3,
   "id": "aa82a6e9",
   "metadata": {},
   "outputs": [
    {
     "name": "stdout",
     "output_type": "stream",
     "text": [
      "<class 'pandas.core.frame.DataFrame'>\n",
      "RangeIndex: 7453 entries, 0 to 7452\n",
      "Data columns (total 21 columns):\n",
      " #   Column  Non-Null Count  Dtype  \n",
      "---  ------  --------------  -----  \n",
      " 0   PSTV01  7453 non-null   int64  \n",
      " 1   PSTV02  7453 non-null   int64  \n",
      " 2   PSTV15  7453 non-null   float64\n",
      " 3   PNK02   7453 non-null   object \n",
      " 4   PNK03   7453 non-null   object \n",
      " 5   PNK04   7453 non-null   object \n",
      " 6   PNK05   7453 non-null   object \n",
      " 7   PNK06   7453 non-null   object \n",
      " 8   PNK07   7453 non-null   object \n",
      " 9   PNK08   7453 non-null   object \n",
      " 10  PNK09   7453 non-null   object \n",
      " 11  PNK10   7453 non-null   object \n",
      " 12  PNK11   7453 non-null   object \n",
      " 13  PNK12   7453 non-null   object \n",
      " 14  PNK13   7453 non-null   object \n",
      " 15  PNK13A  7453 non-null   object \n",
      " 16  PNK14   7453 non-null   object \n",
      " 17  PNK15   7453 non-null   object \n",
      " 18  PNK16   7453 non-null   object \n",
      " 19  PNK17   7453 non-null   int64  \n",
      " 20  PNK18   7453 non-null   int64  \n",
      "dtypes: float64(1), int64(4), object(16)\n",
      "memory usage: 1.2+ MB\n"
     ]
    }
   ],
   "source": [
    "# view data information\n",
    "df.info()"
   ]
  },
  {
   "cell_type": "code",
   "execution_count": 4,
   "id": "3f7a7d9d",
   "metadata": {},
   "outputs": [
    {
     "data": {
      "text/html": [
       "<div>\n",
       "<style scoped>\n",
       "    .dataframe tbody tr th:only-of-type {\n",
       "        vertical-align: middle;\n",
       "    }\n",
       "\n",
       "    .dataframe tbody tr th {\n",
       "        vertical-align: top;\n",
       "    }\n",
       "\n",
       "    .dataframe thead th {\n",
       "        text-align: right;\n",
       "    }\n",
       "</style>\n",
       "<table border=\"1\" class=\"dataframe\">\n",
       "  <thead>\n",
       "    <tr style=\"text-align: right;\">\n",
       "      <th></th>\n",
       "      <th>PSTV01</th>\n",
       "      <th>PSTV02</th>\n",
       "      <th>PSTV15</th>\n",
       "      <th>PNK17</th>\n",
       "      <th>PNK18</th>\n",
       "    </tr>\n",
       "  </thead>\n",
       "  <tbody>\n",
       "    <tr>\n",
       "      <th>count</th>\n",
       "      <td>7.453000e+03</td>\n",
       "      <td>7.453000e+03</td>\n",
       "      <td>7.453000e+03</td>\n",
       "      <td>7.453000e+03</td>\n",
       "      <td>7.453000e+03</td>\n",
       "    </tr>\n",
       "    <tr>\n",
       "      <th>mean</th>\n",
       "      <td>1.175342e+08</td>\n",
       "      <td>1.324832e+08</td>\n",
       "      <td>1.784566e+07</td>\n",
       "      <td>1.099373e+05</td>\n",
       "      <td>1.099373e+05</td>\n",
       "    </tr>\n",
       "    <tr>\n",
       "      <th>std</th>\n",
       "      <td>1.346393e+08</td>\n",
       "      <td>1.428619e+08</td>\n",
       "      <td>1.946087e+07</td>\n",
       "      <td>1.818357e+05</td>\n",
       "      <td>1.818357e+05</td>\n",
       "    </tr>\n",
       "    <tr>\n",
       "      <th>min</th>\n",
       "      <td>1.849220e+05</td>\n",
       "      <td>1.849220e+05</td>\n",
       "      <td>4.296787e-01</td>\n",
       "      <td>1.000000e+04</td>\n",
       "      <td>1.000000e+04</td>\n",
       "    </tr>\n",
       "    <tr>\n",
       "      <th>25%</th>\n",
       "      <td>3.342824e+07</td>\n",
       "      <td>3.558876e+07</td>\n",
       "      <td>5.416568e+06</td>\n",
       "      <td>3.000000e+04</td>\n",
       "      <td>3.000000e+04</td>\n",
       "    </tr>\n",
       "    <tr>\n",
       "      <th>50%</th>\n",
       "      <td>6.183321e+07</td>\n",
       "      <td>6.586190e+07</td>\n",
       "      <td>1.153456e+07</td>\n",
       "      <td>4.500000e+04</td>\n",
       "      <td>4.500000e+04</td>\n",
       "    </tr>\n",
       "    <tr>\n",
       "      <th>75%</th>\n",
       "      <td>9.405725e+07</td>\n",
       "      <td>2.877467e+08</td>\n",
       "      <td>2.222798e+07</td>\n",
       "      <td>1.200000e+05</td>\n",
       "      <td>1.200000e+05</td>\n",
       "    </tr>\n",
       "    <tr>\n",
       "      <th>max</th>\n",
       "      <td>4.550560e+08</td>\n",
       "      <td>4.550560e+08</td>\n",
       "      <td>1.472761e+08</td>\n",
       "      <td>3.000000e+06</td>\n",
       "      <td>3.000000e+06</td>\n",
       "    </tr>\n",
       "  </tbody>\n",
       "</table>\n",
       "</div>"
      ],
      "text/plain": [
       "             PSTV01        PSTV02        PSTV15         PNK17         PNK18\n",
       "count  7.453000e+03  7.453000e+03  7.453000e+03  7.453000e+03  7.453000e+03\n",
       "mean   1.175342e+08  1.324832e+08  1.784566e+07  1.099373e+05  1.099373e+05\n",
       "std    1.346393e+08  1.428619e+08  1.946087e+07  1.818357e+05  1.818357e+05\n",
       "min    1.849220e+05  1.849220e+05  4.296787e-01  1.000000e+04  1.000000e+04\n",
       "25%    3.342824e+07  3.558876e+07  5.416568e+06  3.000000e+04  3.000000e+04\n",
       "50%    6.183321e+07  6.586190e+07  1.153456e+07  4.500000e+04  4.500000e+04\n",
       "75%    9.405725e+07  2.877467e+08  2.222798e+07  1.200000e+05  1.200000e+05\n",
       "max    4.550560e+08  4.550560e+08  1.472761e+08  3.000000e+06  3.000000e+06"
      ]
     },
     "execution_count": 4,
     "metadata": {},
     "output_type": "execute_result"
    }
   ],
   "source": [
    "# describe the data\n",
    "df.describe()"
   ]
  },
  {
   "cell_type": "code",
   "execution_count": 5,
   "id": "ea6f1f9a",
   "metadata": {},
   "outputs": [
    {
     "data": {
      "text/plain": [
       "PSTV01    0\n",
       "PSTV02    0\n",
       "PSTV15    0\n",
       "PNK02     0\n",
       "PNK03     0\n",
       "PNK04     0\n",
       "PNK05     0\n",
       "PNK06     0\n",
       "PNK07     0\n",
       "PNK08     0\n",
       "PNK09     0\n",
       "PNK10     0\n",
       "PNK11     0\n",
       "PNK12     0\n",
       "PNK13     0\n",
       "PNK13A    0\n",
       "PNK14     0\n",
       "PNK15     0\n",
       "PNK16     0\n",
       "PNK17     0\n",
       "PNK18     0\n",
       "dtype: int64"
      ]
     },
     "execution_count": 5,
     "metadata": {},
     "output_type": "execute_result"
    }
   ],
   "source": [
    "# Check null data\n",
    "df.isna().sum()"
   ]
  },
  {
   "cell_type": "code",
   "execution_count": 27,
   "id": "7bab90e9",
   "metadata": {},
   "outputs": [
    {
     "data": {
      "image/png": "[encoded data removed]",
      "text/plain": [
       "<Figure size 432x288 with 6 Axes>"
      ]
     },
     "metadata": {
      "needs_background": "light"
     },
     "output_type": "display_data"
    }
   ],
   "source": [
    "viz = df[['PNK09', 'PNK10', 'PNK11', 'PNK16', 'PNK17', 'PNK18']]\n",
    "viz.hist()\n",
    "plt.show()\n"
   ]
  },
  {
   "cell_type": "code",
   "execution_count": 37,
   "id": "2af0cec9",
   "metadata": {},
   "outputs": [
    {
     "data": {
      "text/plain": [
       "count    7453.000000\n",
       "mean        2.993023\n",
       "std         0.735172\n",
       "min         0.000000\n",
       "25%         3.000000\n",
       "50%         3.000000\n",
       "75%         3.000000\n",
       "max         4.000000\n",
       "Name: PNK09, dtype: float64"
      ]
     },
     "execution_count": 37,
     "metadata": {},
     "output_type": "execute_result"
    }
   ],
   "source": [
    "df['PNK09'].describe()"
   ]
  },
  {
   "cell_type": "code",
   "execution_count": 38,
   "id": "82d0b5f1",
   "metadata": {},
   "outputs": [
    {
     "data": {
      "image/png": "[encoded data removed]",
      "text/plain": [
       "<Figure size 432x288 with 1 Axes>"
      ]
     },
     "metadata": {
      "needs_background": "light"
     },
     "output_type": "display_data"
    }
   ],
   "source": [
    "df['PNK09'].hist(edgecolor='black', bins=20);"
   ]
  },
  {
   "cell_type": "code",
   "execution_count": 39,
   "id": "62b01ecd",
   "metadata": {},
   "outputs": [
    {
     "data": {
      "text/plain": [
       "count    7453.000000\n",
       "mean        3.293707\n",
       "std         1.214627\n",
       "min         0.000000\n",
       "25%         3.000000\n",
       "50%         3.000000\n",
       "75%         3.000000\n",
       "max         7.000000\n",
       "Name: PNK10, dtype: float64"
      ]
     },
     "execution_count": 39,
     "metadata": {},
     "output_type": "execute_result"
    }
   ],
   "source": [
    "df['PNK10'].describe()"
   ]
  },
  {
   "cell_type": "code",
   "execution_count": 55,
   "id": "df561e94",
   "metadata": {},
   "outputs": [
    {
     "data": {
      "image/png": "[encoded data removed]",
      "text/plain": [
       "<Figure size 432x288 with 1 Axes>"
      ]
     },
     "metadata": {
      "needs_background": "light"
     },
     "output_type": "display_data"
    }
   ],
   "source": [
    "df['PNK10'].hist(edgecolor='black', bins=20);"
   ]
  },
  {
   "cell_type": "code",
   "execution_count": 41,
   "id": "d4e6985e",
   "metadata": {},
   "outputs": [
    {
     "data": {
      "text/plain": [
       "count    7453.000000\n",
       "mean        0.320542\n",
       "std         0.675984\n",
       "min         0.000000\n",
       "25%         0.000000\n",
       "50%         0.000000\n",
       "75%         0.000000\n",
       "max         2.000000\n",
       "Name: PNK11, dtype: float64"
      ]
     },
     "execution_count": 41,
     "metadata": {},
     "output_type": "execute_result"
    }
   ],
   "source": [
    "df['PNK11'].describe()"
   ]
  },
  {
   "cell_type": "code",
   "execution_count": 56,
   "id": "4854525a",
   "metadata": {},
   "outputs": [
    {
     "data": {
      "image/png": "[encoded data removed]",
      "text/plain": [
       "<Figure size 432x288 with 1 Axes>"
      ]
     },
     "metadata": {
      "needs_background": "light"
     },
     "output_type": "display_data"
    }
   ],
   "source": [
    "df['PNK11'].hist(edgecolor='black', bins=20);"
   ]
  },
  {
   "cell_type": "code",
   "execution_count": 43,
   "id": "9d399e03",
   "metadata": {},
   "outputs": [
    {
     "data": {
      "text/plain": [
       "count    7453.000000\n",
       "mean        9.141151\n",
       "std         8.045675\n",
       "min         0.000000\n",
       "25%         4.000000\n",
       "50%         7.000000\n",
       "75%         9.000000\n",
       "max        28.000000\n",
       "Name: PNK16, dtype: float64"
      ]
     },
     "execution_count": 43,
     "metadata": {},
     "output_type": "execute_result"
    }
   ],
   "source": [
    "df['PNK16'].describe()"
   ]
  },
  {
   "cell_type": "code",
   "execution_count": 58,
   "id": "cb835d74",
   "metadata": {},
   "outputs": [
    {
     "data": {
      "image/png": "[encoded data removed]",
      "text/plain": [
       "<Figure size 432x288 with 1 Axes>"
      ]
     },
     "metadata": {
      "needs_background": "light"
     },
     "output_type": "display_data"
    }
   ],
   "source": [
    "df['PNK16'].hist(edgecolor='black', bins=20);"
   ]
  },
  {
   "cell_type": "code",
   "execution_count": 45,
   "id": "fbe4126a",
   "metadata": {},
   "outputs": [
    {
     "data": {
      "text/plain": [
       "count    7.453000e+03\n",
       "mean     1.099373e+05\n",
       "std      1.818357e+05\n",
       "min      1.000000e+04\n",
       "25%      3.000000e+04\n",
       "50%      4.500000e+04\n",
       "75%      1.200000e+05\n",
       "max      3.000000e+06\n",
       "Name: PNK17, dtype: float64"
      ]
     },
     "execution_count": 45,
     "metadata": {},
     "output_type": "execute_result"
    }
   ],
   "source": [
    "df['PNK17'].describe()"
   ]
  },
  {
   "cell_type": "code",
   "execution_count": 46,
   "id": "4cd8abf6",
   "metadata": {},
   "outputs": [
    {
     "data": {
      "image/png": "[encoded data removed]",
      "text/plain": [
       "<Figure size 432x288 with 1 Axes>"
      ]
     },
     "metadata": {
      "needs_background": "light"
     },
     "output_type": "display_data"
    }
   ],
   "source": [
    "df['PNK17'].hist(edgecolor='black', bins=20);"
   ]
  },
  {
   "cell_type": "code",
   "execution_count": 47,
   "id": "7800b1c5",
   "metadata": {},
   "outputs": [
    {
     "data": {
      "text/plain": [
       "count    7.453000e+03\n",
       "mean     1.099373e+05\n",
       "std      1.818357e+05\n",
       "min      1.000000e+04\n",
       "25%      3.000000e+04\n",
       "50%      4.500000e+04\n",
       "75%      1.200000e+05\n",
       "max      3.000000e+06\n",
       "Name: PNK18, dtype: float64"
      ]
     },
     "execution_count": 47,
     "metadata": {},
     "output_type": "execute_result"
    }
   ],
   "source": [
    "df['PNK18'].describe()"
   ]
  },
  {
   "cell_type": "code",
   "execution_count": 48,
   "id": "735fa2ab",
   "metadata": {},
   "outputs": [
    {
     "data": {
      "image/png": "[encoded data removed]",
      "text/plain": [
       "<Figure size 432x288 with 1 Axes>"
      ]
     },
     "metadata": {
      "needs_background": "light"
     },
     "output_type": "display_data"
    }
   ],
   "source": [
    "df['PNK18'].hist(edgecolor='black', bins=20);"
   ]
  },
  {
   "cell_type": "code",
   "execution_count": 30,
   "id": "fe8ba7b4",
   "metadata": {},
   "outputs": [
    {
     "data": {
      "image/png": "[encoded data removed]",
      "text/plain": [
       "<Figure size 432x288 with 1 Axes>"
      ]
     },
     "metadata": {
      "needs_background": "light"
     },
     "output_type": "display_data"
    }
   ],
   "source": [
    "import matplotlib.pyplot as plt\n",
    "\n",
    "plt.scatter(df.PNK09, df.PNK18, color='blue')\n",
    "plt.xlabel(\"PNK09\")\n",
    "plt.ylabel(\"PNK18\")\n",
    "plt.show()"
   ]
  },
  {
   "cell_type": "code",
   "execution_count": 59,
   "id": "5f563b72",
   "metadata": {
    "scrolled": true
   },
   "outputs": [
    {
     "data": {
      "image/png": "[encoded data removed]",
      "text/plain": [
       "<Figure size 432x288 with 1 Axes>"
      ]
     },
     "metadata": {
      "needs_background": "light"
     },
     "output_type": "display_data"
    }
   ],
   "source": [
    "plt.scatter(df.PNK10, df.PNK18, color='blue')\n",
    "plt.xlabel(\"PNK10\")\n",
    "plt.ylabel(\"PNK18\")\n",
    "plt.show()"
   ]
  },
  {
   "cell_type": "code",
   "execution_count": 33,
   "id": "b5fb4244",
   "metadata": {},
   "outputs": [
    {
     "data": {
      "image/png": "[encoded data removed]",
      "text/plain": [
       "<Figure size 432x288 with 1 Axes>"
      ]
     },
     "metadata": {
      "needs_background": "light"
     },
     "output_type": "display_data"
    }
   ],
   "source": [
    "plt.scatter(df.PNK11, df.PNK18, color='blue')\n",
    "plt.xlabel(\"PNK11\")\n",
    "plt.ylabel(\"PNK18\")\n",
    "plt.show()"
   ]
  },
  {
   "cell_type": "code",
   "execution_count": 34,
   "id": "b58351b2",
   "metadata": {},
   "outputs": [
    {
     "data": {
      "image/png": "[encoded data removed]",
      "text/plain": [
       "<Figure size 432x288 with 1 Axes>"
      ]
     },
     "metadata": {
      "needs_background": "light"
     },
     "output_type": "display_data"
    }
   ],
   "source": [
    "plt.scatter(df.PNK16, df.PNK18, color='blue')\n",
    "plt.xlabel(\"PNK16\")\n",
    "plt.ylabel(\"PNK18\")\n",
    "plt.show()"
   ]
  },
  {
   "cell_type": "code",
   "execution_count": 36,
   "id": "74cd26ed",
   "metadata": {},
   "outputs": [
    {
     "data": {
      "image/png": "[encoded data removed]",
      "text/plain": [
       "<Figure size 432x288 with 1 Axes>"
      ]
     },
     "metadata": {
      "needs_background": "light"
     },
     "output_type": "display_data"
    }
   ],
   "source": [
    "plt.scatter(df.PNK17, df.PNK18, color='blue')\n",
    "plt.xlabel(\"PNK17\")\n",
    "plt.ylabel(\"PNK18\")\n",
    "plt.show()"
   ]
  },
  {
   "cell_type": "code",
   "execution_count": 6,
   "id": "fff3b269",
   "metadata": {},
   "outputs": [],
   "source": [
    "X = df[['PNK09', 'PNK10', 'PNK11', 'PNK16', 'PNK17']]\n",
    "y = df['PNK18']\n",
    "m = len(y)\n"
   ]
  },
  {
   "cell_type": "code",
   "execution_count": 7,
   "id": "d59863e7",
   "metadata": {},
   "outputs": [],
   "source": [
    "x_train , x_test , y_train , y_test = train_test_split(X , y , test_size = 0.10,random_state =2)"
   ]
  },
  {
   "cell_type": "code",
   "execution_count": 8,
   "id": "d349f8d8",
   "metadata": {},
   "outputs": [],
   "source": [
    "from sklearn.linear_model import LinearRegression\n"
   ]
  },
  {
   "cell_type": "code",
   "execution_count": 9,
   "id": "2b4b1354",
   "metadata": {},
   "outputs": [
    {
     "name": "stdout",
     "output_type": "stream",
     "text": [
      "Requirement already satisfied: scikit-learn in c:\\users\\acer\\anaconda3\\lib\\site-packages (1.0.2)\n",
      "Requirement already satisfied: threadpoolctl>=2.0.0 in c:\\users\\acer\\anaconda3\\lib\\site-packages (from scikit-learn) (2.2.0)\n",
      "Requirement already satisfied: numpy>=1.14.6 in c:\\users\\acer\\anaconda3\\lib\\site-packages (from scikit-learn) (1.22.4)\n",
      "Requirement already satisfied: scipy>=1.1.0 in c:\\users\\acer\\anaconda3\\lib\\site-packages (from scikit-learn) (1.7.3)\n",
      "Requirement already satisfied: joblib>=0.11 in c:\\users\\acer\\anaconda3\\lib\\site-packages (from scikit-learn) (1.1.0)\n",
      "Note: you may need to restart the kernel to use updated packages.\n"
     ]
    }
   ],
   "source": [
    "pip install scikit-learn\n"
   ]
  },
  {
   "cell_type": "code",
   "execution_count": 16,
   "id": "b3773029",
   "metadata": {},
   "outputs": [
    {
     "data": {
      "text/plain": [
       "LinearRegression()"
      ]
     },
     "execution_count": 16,
     "metadata": {},
     "output_type": "execute_result"
    }
   ],
   "source": [
    "from sklearn.preprocessing import LabelEncoder\n",
    "\n",
    "label_encoder = LabelEncoder()\n",
    "df['PNK16'] = label_encoder.fit_transform(df['PNK16'])\n",
    "\n",
    "# Lanjutkan dengan persiapan regresi \n",
    "X = df[['PNK09', 'PNK10', 'PNK11', 'PNK16', 'PNK17']]\n",
    "y = df['PNK18']\n",
    "x_train, x_test, y_train, y_test = train_test_split(X, y, test_size=0.10, random_state=2)\n",
    "\n",
    "reg = LinearRegression()\n",
    "reg.fit(x_train, y_train)\n"
   ]
  },
  {
   "cell_type": "code",
   "execution_count": 18,
   "id": "24c9ca27",
   "metadata": {
    "scrolled": true
   },
   "outputs": [
    {
     "data": {
      "text/plain": [
       "1.0"
      ]
     },
     "execution_count": 18,
     "metadata": {},
     "output_type": "execute_result"
    }
   ],
   "source": [
    "reg.score(x_test,y_test)"
   ]
  },
  {
   "cell_type": "code",
   "execution_count": 20,
   "id": "5b455571",
   "metadata": {},
   "outputs": [],
   "source": [
    "import sklearn.ensemble as ensemble\n",
    "import pandas as pd\n",
    "\n",
    "clf = ensemble.GradientBoostingRegressor(loss='squared_error')\n"
   ]
  },
  {
   "cell_type": "code",
   "execution_count": 21,
   "id": "59173caa",
   "metadata": {},
   "outputs": [
    {
     "data": {
      "text/plain": [
       "GradientBoostingRegressor()"
      ]
     },
     "execution_count": 21,
     "metadata": {},
     "output_type": "execute_result"
    }
   ],
   "source": [
    "clf.fit(x_train, y_train)"
   ]
  },
  {
   "cell_type": "code",
   "execution_count": 22,
   "id": "1b8b85dc",
   "metadata": {},
   "outputs": [
    {
     "data": {
      "text/plain": [
       "0.9999912113192935"
      ]
     },
     "execution_count": 22,
     "metadata": {},
     "output_type": "execute_result"
    }
   ],
   "source": [
    "clf.score(x_test,y_test)"
   ]
  },
  {
   "cell_type": "code",
   "execution_count": 23,
   "id": "7230681c",
   "metadata": {},
   "outputs": [],
   "source": [
    "y_pred = clf.predict(x_test)"
   ]
  },
  {
   "cell_type": "markdown",
   "id": "e5da94eb",
   "metadata": {},
   "source": [
    "### Model Evaluation"
   ]
  },
  {
   "cell_type": "code",
   "execution_count": 25,
   "id": "0e45dd77",
   "metadata": {},
   "outputs": [
    {
     "name": "stdout",
     "output_type": "stream",
     "text": [
      "Mean Absolute Error: 106.36560227296526\n",
      "Mean Square Error: 278557.30485152313\n",
      "Root Mean Square Error: 527.7852829053905\n",
      "MAPE : 0.0013264673249713027\n"
     ]
    }
   ],
   "source": [
    "from sklearn import metrics\n",
    "import numpy as np\n",
    "\n",
    "# Assuming y_pred is the predictions made by your model\n",
    "\n",
    "meanAbErr = metrics.mean_absolute_error(y_test, y_pred)\n",
    "meanSqErr = metrics.mean_squared_error(y_test, y_pred)\n",
    "rootMeanSqErr = np.sqrt(metrics.mean_squared_error(y_test, y_pred))\n",
    "\n",
    "print('Mean Absolute Error:', meanAbErr)\n",
    "print('Mean Square Error:', meanSqErr)\n",
    "print('Root Mean Square Error:', rootMeanSqErr)\n",
    "print(\"MAPE :\", (np.abs(y_test - y_pred) / y_test).mean())\n"
   ]
  },
  {
   "cell_type": "markdown",
   "id": "6f107995",
   "metadata": {},
   "source": [
    "Terima kasih"
   ]
  }
 ],
 "metadata": {
  "kernelspec": {
   "display_name": "Python 3 (ipykernel)",
   "language": "python",
   "name": "python3"
  },
  "language_info": {
   "codemirror_mode": {
    "name": "ipython",
    "version": 3
   },
   "file_extension": ".py",
   "mimetype": "text/x-python",
   "name": "python",
   "nbconvert_exporter": "python",
   "pygments_lexer": "ipython3",
   "version": "3.9.12"
  }
 },
 "nbformat": 4,
 "nbformat_minor": 5
}
